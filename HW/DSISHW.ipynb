{
 "cells": [
  {
   "cell_type": "code",
   "execution_count": 7,
   "id": "d321bf53-ec04-48eb-9092-b0a89daaa09d",
   "metadata": {},
   "outputs": [
    {
     "name": "stdout",
     "output_type": "stream",
     "text": [
      "               Password\n",
      "0                123456\n",
      "1                 12345\n",
      "2             123456789\n",
      "3              password\n",
      "4              iloveyou\n",
      "...                 ...\n",
      "14344092       \u001axCvBnM,\n",
      "14344093        ie168\n",
      "14344094    abygurl69\n",
      "14344095       a6_123\n",
      "14344096  \u0004*\u00037Â¡Vamos!\u0003\n",
      "\n",
      "[14344097 rows x 1 columns]\n"
     ]
    }
   ],
   "source": [
    "import pandas as pd # Для выгрузки этого\n",
    "import numpy as np # для рассчетов\n",
    "import matplotlib.pyplot as plt # графика \n",
    "import seaborn as sns # тоже графика \n",
    "\n",
    "arr = pd.read_csv('New_rockyou.txt', encoding='UTF-8', sep='\\t')\n",
    "print(arr)\n"
   ]
  },
  {
   "cell_type": "code",
   "execution_count": 8,
   "id": "a8e5e79c-71bf-45ba-80b0-fdc03e8d5911",
   "metadata": {},
   "outputs": [
    {
     "data": {
      "text/plain": [
       "Password    14344094\n",
       "dtype: int64"
      ]
     },
     "execution_count": 8,
     "metadata": {},
     "output_type": "execute_result"
    }
   ],
   "source": [
    "arr.count()"
   ]
  },
  {
   "cell_type": "code",
   "execution_count": 10,
   "id": "842100ab-1bea-4d91-aa63-fb7b5a0529a3",
   "metadata": {},
   "outputs": [
    {
     "data": {
      "text/plain": [
       "Index(['Password'], dtype='object')"
      ]
     },
     "execution_count": 10,
     "metadata": {},
     "output_type": "execute_result"
    }
   ],
   "source": [
    "arr.columns"
   ]
  },
  {
   "cell_type": "code",
   "execution_count": 11,
   "id": "2c9cf6e4-75f2-46c8-8107-72bd0854b036",
   "metadata": {},
   "outputs": [
    {
     "data": {
      "text/html": [
       "<div>\n",
       "<style scoped>\n",
       "    .dataframe tbody tr th:only-of-type {\n",
       "        vertical-align: middle;\n",
       "    }\n",
       "\n",
       "    .dataframe tbody tr th {\n",
       "        vertical-align: top;\n",
       "    }\n",
       "\n",
       "    .dataframe thead th {\n",
       "        text-align: right;\n",
       "    }\n",
       "</style>\n",
       "<table border=\"1\" class=\"dataframe\">\n",
       "  <thead>\n",
       "    <tr style=\"text-align: right;\">\n",
       "      <th></th>\n",
       "      <th>Password</th>\n",
       "    </tr>\n",
       "  </thead>\n",
       "  <tbody>\n",
       "    <tr>\n",
       "      <th>0</th>\n",
       "      <td>False</td>\n",
       "    </tr>\n",
       "    <tr>\n",
       "      <th>1</th>\n",
       "      <td>False</td>\n",
       "    </tr>\n",
       "    <tr>\n",
       "      <th>2</th>\n",
       "      <td>False</td>\n",
       "    </tr>\n",
       "    <tr>\n",
       "      <th>3</th>\n",
       "      <td>False</td>\n",
       "    </tr>\n",
       "    <tr>\n",
       "      <th>4</th>\n",
       "      <td>False</td>\n",
       "    </tr>\n",
       "    <tr>\n",
       "      <th>...</th>\n",
       "      <td>...</td>\n",
       "    </tr>\n",
       "    <tr>\n",
       "      <th>14344092</th>\n",
       "      <td>False</td>\n",
       "    </tr>\n",
       "    <tr>\n",
       "      <th>14344093</th>\n",
       "      <td>False</td>\n",
       "    </tr>\n",
       "    <tr>\n",
       "      <th>14344094</th>\n",
       "      <td>False</td>\n",
       "    </tr>\n",
       "    <tr>\n",
       "      <th>14344095</th>\n",
       "      <td>False</td>\n",
       "    </tr>\n",
       "    <tr>\n",
       "      <th>14344096</th>\n",
       "      <td>False</td>\n",
       "    </tr>\n",
       "  </tbody>\n",
       "</table>\n",
       "<p>14344097 rows × 1 columns</p>\n",
       "</div>"
      ],
      "text/plain": [
       "          Password\n",
       "0            False\n",
       "1            False\n",
       "2            False\n",
       "3            False\n",
       "4            False\n",
       "...            ...\n",
       "14344092     False\n",
       "14344093     False\n",
       "14344094     False\n",
       "14344095     False\n",
       "14344096     False\n",
       "\n",
       "[14344097 rows x 1 columns]"
      ]
     },
     "execution_count": 11,
     "metadata": {},
     "output_type": "execute_result"
    }
   ],
   "source": [
    "arr.isnull()"
   ]
  },
  {
   "cell_type": "code",
   "execution_count": null,
   "id": "25b5290e-5cef-4f25-8a41-884284344f37",
   "metadata": {},
   "outputs": [],
   "source": [
    "arr=[0,0,0,0,0,0,0,0,0,0]"
   ]
  }
 ],
 "metadata": {
  "kernelspec": {
   "display_name": "Python 3 (ipykernel)",
   "language": "python",
   "name": "python3"
  },
  "language_info": {
   "codemirror_mode": {
    "name": "ipython",
    "version": 3
   },
   "file_extension": ".py",
   "mimetype": "text/x-python",
   "name": "python",
   "nbconvert_exporter": "python",
   "pygments_lexer": "ipython3",
   "version": "3.10.9"
  }
 },
 "nbformat": 4,
 "nbformat_minor": 5
}
